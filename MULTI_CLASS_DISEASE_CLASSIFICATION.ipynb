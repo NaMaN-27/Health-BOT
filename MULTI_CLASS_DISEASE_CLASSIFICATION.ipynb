{
  "nbformat": 4,
  "nbformat_minor": 0,
  "metadata": {
    "accelerator": "GPU",
    "colab": {
      "provenance": []
    },
    "kernelspec": {
      "display_name": "Python 3",
      "name": "python3"
    },
    "language_info": {
      "name": "python"
    }
  },
  "cells": [
    {
      "cell_type": "markdown",
      "metadata": {
        "id": "Ad-P9YnYd-Ss"
      },
      "source": [
        "# **MOUNTING GOOGLE DRIVE**\n",
        "\n",
        "\n"
      ]
    },
    {
      "cell_type": "code",
      "metadata": {
        "id": "f82vFsN0jK8f",
        "colab": {
          "base_uri": "https://localhost:8080/"
        },
        "outputId": "1f9e5365-a8a7-40cd-d277-fd86c36f7ec3"
      },
      "source": [
        "from google.colab import drive\n",
        "drive.mount('/content/gdrive', force_remount=True)"
      ],
      "execution_count": null,
      "outputs": [
        {
          "output_type": "stream",
          "name": "stdout",
          "text": [
            "Mounted at /content/gdrive\n"
          ]
        }
      ]
    },
    {
      "cell_type": "markdown",
      "metadata": {
        "id": "IHRI68loefHd"
      },
      "source": [
        "# **LOADING LIBRARIES**"
      ]
    },
    {
      "cell_type": "code",
      "metadata": {
        "id": "E6sOdbpijfeX"
      },
      "source": [
        "import numpy as np\n",
        "import os\n",
        "import matplotlib.pyplot as plt\n",
        "import pandas as pd\n",
        "import tensorflow as tf"
      ],
      "execution_count": null,
      "outputs": []
    },
    {
      "cell_type": "markdown",
      "metadata": {
        "id": "ptZIhCSaekVK"
      },
      "source": [
        "# **CONFIGURING PATH**"
      ]
    },
    {
      "cell_type": "code",
      "metadata": {
        "id": "8HHLEll7j3ee"
      },
      "source": [
        "path =  \"/content/gdrive/MyDrive/IBM_GRM/chest_xray/\"\n",
        "train_path = os.path.join(path,\"train\")\n",
        "test_path=os.path.join(path,\"val\")\n",
        "val_path=os.path.join(path,\"test\")"
      ],
      "execution_count": null,
      "outputs": []
    },
    {
      "cell_type": "markdown",
      "metadata": {
        "id": "R89G0K8SfDVg"
      },
      "source": [
        "# **NUMBER OF IMAGES IN: TRAIN || TEST || VAL**"
      ]
    },
    {
      "cell_type": "code",
      "metadata": {
        "colab": {
          "base_uri": "https://localhost:8080/"
        },
        "id": "V8ehuIgmj9Kw",
        "outputId": "f2adedd9-8703-4851-8383-02aba3d446d1"
      },
      "source": [
        "print(\"Train : \"+str(len(os.listdir(train_path+'/NORMAL')) + len(os.listdir(train_path+'/PNEUMONIA')) + len(os.listdir(train_path+'/Covid'))+ len(os.listdir(train_path+'/TB'))))\n",
        "print(\"Test  : \"+str(len(os.listdir(val_path+'/PNEUMONIA')) + len(os.listdir(val_path+'/NORMAL')) + len(os.listdir(val_path+'/Covid'))+ len(os.listdir(val_path+'/TB'))))\n",
        "print(\"Val   : \"+str(len(os.listdir(test_path+'/NORMAL')) + len(os.listdir(test_path+'/PNEUMONIA')) + len(os.listdir(test_path+'/Covid'))+ len(os.listdir(test_path+'/TB'))))"
      ],
      "execution_count": null,
      "outputs": [
        {
          "output_type": "stream",
          "name": "stdout",
          "text": [
            "Train : 5504\n",
            "Test  : 704\n",
            "Val   : 480\n"
          ]
        }
      ]
    },
    {
      "cell_type": "markdown",
      "metadata": {
        "id": "ZGJljy5veunH"
      },
      "source": [
        "# **USING DATA AUGMENTATION**"
      ]
    },
    {
      "cell_type": "code",
      "metadata": {
        "id": "_dJfl0qRkEKB"
      },
      "source": [
        "from keras.preprocessing.image import ImageDataGenerator\n",
        "train_Datagen = ImageDataGenerator(\n",
        "    rescale =1/255,\n",
        "#     shear_range=10,\n",
        "    zoom_range = 0.2,\n",
        "    width_shift_range=0.2,\n",
        "    height_shift_range=0.2,\n",
        "#     rotation_range=20,\n",
        "    fill_mode = 'nearest',\n",
        ")\n",
        "val_datagen = ImageDataGenerator(\n",
        "    rescale =1/255,\n",
        ")"
      ],
      "execution_count": null,
      "outputs": []
    },
    {
      "cell_type": "markdown",
      "metadata": {
        "id": "34NXsXB7e0bw"
      },
      "source": [
        "# **TRANSFER LEARNING || BUILDING THE MODEL ARCHITECTURE**"
      ]
    },
    {
      "cell_type": "code",
      "metadata": {
        "id": "yeS8RsoxkE1Q",
        "colab": {
          "base_uri": "https://localhost:8080/"
        },
        "outputId": "27726193-d789-4088-b61a-ddab4ba0e4a7"
      },
      "source": [
        "import keras\n",
        "from tensorflow.keras.layers import Dense, GlobalAveragePooling2D, Dropout\n",
        "from tensorflow.keras.models import Sequential\n",
        "from tensorflow.keras.applications import Xception\n",
        "base_model = Xception(include_top=False, weights='imagenet')\n",
        "model = Sequential()\n",
        "model.add(base_model)\n",
        "model.add(GlobalAveragePooling2D())\n",
        "model.add(Dense(1024, activation = 'relu',kernel_regularizer= keras.regularizers.l2(l2=0.05)))\n",
        "model.add(Dropout(0.5))\n",
        "model.add(Dense(64, activation='relu',kernel_regularizer=keras.regularizers.l2(l2=0.05)))\n",
        "model.add(Dropout(0.5))\n",
        "model.add(Dense(4, activation='softmax'))\n",
        "model.summary()"
      ],
      "execution_count": null,
      "outputs": [
        {
          "output_type": "stream",
          "name": "stdout",
          "text": [
            "Downloading data from https://storage.googleapis.com/tensorflow/keras-applications/xception/xception_weights_tf_dim_ordering_tf_kernels_notop.h5\n",
            "83689472/83683744 [==============================] - 2s 0us/step\n",
            "83697664/83683744 [==============================] - 2s 0us/step\n",
            "Model: \"sequential\"\n",
            "_________________________________________________________________\n",
            "Layer (type)                 Output Shape              Param #   \n",
            "=================================================================\n",
            "xception (Functional)        (None, None, None, 2048)  20861480  \n",
            "_________________________________________________________________\n",
            "global_average_pooling2d (Gl (None, 2048)              0         \n",
            "_________________________________________________________________\n",
            "dense (Dense)                (None, 1024)              2098176   \n",
            "_________________________________________________________________\n",
            "dropout (Dropout)            (None, 1024)              0         \n",
            "_________________________________________________________________\n",
            "dense_1 (Dense)              (None, 64)                65600     \n",
            "_________________________________________________________________\n",
            "dropout_1 (Dropout)          (None, 64)                0         \n",
            "_________________________________________________________________\n",
            "dense_2 (Dense)              (None, 4)                 260       \n",
            "=================================================================\n",
            "Total params: 23,025,516\n",
            "Trainable params: 22,970,988\n",
            "Non-trainable params: 54,528\n",
            "_________________________________________________________________\n"
          ]
        }
      ]
    },
    {
      "cell_type": "markdown",
      "metadata": {
        "id": "wBaVvtJhKEos"
      },
      "source": [
        "# **CREATING TRAIN || VALIDATION || TEST GENERATORS**"
      ]
    },
    {
      "cell_type": "code",
      "metadata": {
        "id": "mT0l8-iqkQSO",
        "colab": {
          "base_uri": "https://localhost:8080/"
        },
        "outputId": "5cdc9a17-db8d-48e1-dc8a-ad22a207dc4b"
      },
      "source": [
        "train_generator=train_Datagen.flow_from_directory(\n",
        "    train_path,\n",
        "    target_size=(150,150),\n",
        "    batch_size= 32,\n",
        "    \n",
        ")\n",
        "validation_generator = val_datagen.flow_from_directory(\n",
        "        val_path,\n",
        "        target_size=(150,150),\n",
        "        batch_size=32,\n",
        "        \n",
        ")\n",
        "test_generator = val_datagen.flow_from_directory(\n",
        "    test_path,\n",
        "    target_size=(150,150),\n",
        "    batch_size=32,\n",
        "    \n",
        ")"
      ],
      "execution_count": null,
      "outputs": [
        {
          "output_type": "stream",
          "name": "stdout",
          "text": [
            "Found 5504 images belonging to 4 classes.\n",
            "Found 704 images belonging to 4 classes.\n",
            "Found 480 images belonging to 4 classes.\n"
          ]
        }
      ]
    },
    {
      "cell_type": "code",
      "metadata": {
        "id": "8nKWllolFIVz",
        "colab": {
          "base_uri": "https://localhost:8080/"
        },
        "outputId": "33efea34-fdd5-4290-a0f3-95ac09b5ac12"
      },
      "source": [
        "train_generator.class_indices"
      ],
      "execution_count": null,
      "outputs": [
        {
          "output_type": "execute_result",
          "data": {
            "text/plain": [
              "{'Covid': 0, 'NORMAL': 1, 'PNEUMONIA': 2, 'TB': 3}"
            ]
          },
          "metadata": {},
          "execution_count": 9
        }
      ]
    },
    {
      "cell_type": "markdown",
      "metadata": {
        "id": "DRXBkLM1e7x4"
      },
      "source": [
        "# **USING EXPONENTIAL DECAY**"
      ]
    },
    {
      "cell_type": "code",
      "metadata": {
        "id": "-2B6V5WvkSXk"
      },
      "source": [
        "from tensorflow.keras.optimizers import Adam\n",
        "initial_learning_rate = 1e-5\n",
        "lr_schedule = tf.keras.optimizers.schedules.ExponentialDecay(\n",
        "    initial_learning_rate,\n",
        "    decay_steps=650,\n",
        "    decay_rate=0.9\n",
        "    #staircase=True\n",
        "    )\n",
        "\n",
        "model.compile(optimizer= Adam(lr_schedule), loss='categorical_crossentropy', metrics=[\"accuracy\"])"
      ],
      "execution_count": null,
      "outputs": []
    },
    {
      "cell_type": "markdown",
      "metadata": {
        "id": "85II1LXgfVQB"
      },
      "source": [
        "# **TRAINING THE MODEL**"
      ]
    },
    {
      "cell_type": "code",
      "metadata": {
        "id": "pg9zhgQzulW_"
      },
      "source": [
        "# history_new = model.fit(train_generator,\n",
        "#                               epochs=20,\n",
        "#                               steps_per_epoch = 5024 // 32,\n",
        "#                               validation_data = validation_generator,\n",
        "#                               validation_steps = 640 // 32, verbose=1)"
      ],
      "execution_count": null,
      "outputs": []
    },
    {
      "cell_type": "markdown",
      "metadata": {
        "id": "FZfgOvG8fbZY"
      },
      "source": [
        "# **EVALUATING THE MODEL**"
      ]
    },
    {
      "cell_type": "code",
      "metadata": {
        "id": "64-m5vpDkUzt"
      },
      "source": [
        "model.load_weights('/content/gdrive/MyDrive/IBM_GRM/chest_xray/model_weights/FINALMODELDISEASECLASSIFICATION.h5')"
      ],
      "execution_count": null,
      "outputs": []
    },
    {
      "cell_type": "code",
      "metadata": {
        "id": "6sIxIPpjkVqU",
        "colab": {
          "base_uri": "https://localhost:8080/"
        },
        "outputId": "554e1dff-4ec6-4f6c-ea4d-08d815d9a2ff"
      },
      "source": [
        "op = model.evaluate_generator(test_generator)\n",
        "op"
      ],
      "execution_count": null,
      "outputs": [
        {
          "output_type": "stream",
          "name": "stderr",
          "text": [
            "/usr/local/lib/python3.7/dist-packages/keras/engine/training.py:2006: UserWarning: `Model.evaluate_generator` is deprecated and will be removed in a future version. Please use `Model.evaluate`, which supports generators.\n",
            "  warnings.warn('`Model.evaluate_generator` is deprecated and '\n"
          ]
        },
        {
          "output_type": "execute_result",
          "data": {
            "text/plain": [
              "[1.084539532661438, 0.9750000238418579]"
            ]
          },
          "metadata": {},
          "execution_count": 16
        }
      ]
    },
    {
      "cell_type": "code",
      "metadata": {
        "colab": {
          "base_uri": "https://localhost:8080/"
        },
        "id": "5eXhC2dbwOaK",
        "outputId": "a25428d5-d195-4410-868f-b65cba9d71b4"
      },
      "source": [
        "print(\"Accuracy obtained on the test dataset is: {}\".format(op[1]))"
      ],
      "execution_count": null,
      "outputs": [
        {
          "output_type": "stream",
          "name": "stdout",
          "text": [
            "Accuracy obtained on the test dataset is: 0.9750000238418579\n"
          ]
        }
      ]
    }
  ]
}